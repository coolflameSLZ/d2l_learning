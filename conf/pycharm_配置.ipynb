{
 "cells": [
  {
   "cell_type": "code",
   "execution_count": null,
   "metadata": {
    "collapsed": true
   },
   "outputs": [],
   "source": []
  },
  {
   "cell_type": "markdown",
   "source": [
    "\n",
    "1. pip uninstall pyzmq\n",
    "2. pip install pyzmq\n",
    "\n",
    "3. python -m ipykernel install --user --name d2l_learning --display-name \"Python (d2l_learning)\n",
    "\n",
    "   Installed kernelspec d2l_learning in C:\\Users\\sunli\\AppData\\Roaming\\jupyter\\kernels\\d2l_learning"
   ],
   "metadata": {
    "collapsed": false
   }
  }
 ],
 "metadata": {
  "kernelspec": {
   "display_name": "Python 3",
   "language": "python",
   "name": "python3"
  },
  "language_info": {
   "codemirror_mode": {
    "name": "ipython",
    "version": 2
   },
   "file_extension": ".py",
   "mimetype": "text/x-python",
   "name": "python",
   "nbconvert_exporter": "python",
   "pygments_lexer": "ipython2",
   "version": "2.7.6"
  }
 },
 "nbformat": 4,
 "nbformat_minor": 0
}